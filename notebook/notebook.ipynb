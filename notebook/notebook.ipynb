{
 "cells": [
  {
   "cell_type": "code",
   "execution_count": 1,
   "id": "150646f4",
   "metadata": {},
   "outputs": [],
   "source": [
    "import configparser\n",
    "from functools import reduce\n",
    "import matplotlib.pyplot as plt\n",
    "from pyspark import SparkConf\n",
    "from pyspark.sql import SparkSession\n",
    "from pyspark.ml.clustering import KMeans\n",
    "from pyspark.ml.evaluation import ClusteringEvaluator\n",
    "from pyspark.ml.feature import VectorAssembler, StandardScaler\n",
    "from pyspark.sql.functions import explode, split, col, when, expr"
   ]
  },
  {
   "cell_type": "markdown",
   "id": "2588708a",
   "metadata": {},
   "source": [
    "### Wordcount test"
   ]
  },
  {
   "cell_type": "code",
   "execution_count": 2,
   "id": "5e00eb3a",
   "metadata": {},
   "outputs": [
    {
     "name": "stderr",
     "output_type": "stream",
     "text": [
      "your 131072x1 screen size is bogus. expect trouble\n",
      "Setting default log level to \"WARN\".\n",
      "To adjust logging level use sc.setLogLevel(newLevel). For SparkR, use setLogLevel(newLevel).\n"
     ]
    },
    {
     "name": "stdout",
     "output_type": "stream",
     "text": [
      "+-----+-----+\n",
      "|word |count|\n",
      "+-----+-----+\n",
      "|spark|2    |\n",
      "|is   |1    |\n",
      "|fast |1    |\n",
      "|hello|2    |\n",
      "|world|1    |\n",
      "+-----+-----+\n",
      "\n"
     ]
    }
   ],
   "source": [
    "# Конфигурация Spark\n",
    "config = configparser.ConfigParser()\n",
    "config.optionxform = str\n",
    "config.read('../config.ini')\n",
    "spark_conf = SparkConf().setAll(config['SPARK'].items())\n",
    "\n",
    "# Создаем сессию\n",
    "spark = SparkSession.builder \\\n",
    "    .appName(\"WordCountWithDataFrame\") \\\n",
    "    .master(\"local[*]\") \\\n",
    "    .config(conf=spark_conf) \\\n",
    "    .getOrCreate()\n",
    "\n",
    "# Читаем текстовый файл построчно\n",
    "lines = spark.read.text(\"../data/example.txt\")\n",
    "\n",
    "# Разбиваем строки на слова\n",
    "words = lines.select(explode(split(col(\"value\"), \"\\\\s+\")).alias(\"word\"))\n",
    "\n",
    "# Считаем частоту слов\n",
    "word_counts = words.groupBy(\"word\").count()\n",
    "\n",
    "# Выводим результат\n",
    "word_counts.show(truncate=False)\n",
    "\n",
    "# Останавливаем сессию.stop()\n",
    "spark.stop()"
   ]
  },
  {
   "cell_type": "code",
   "execution_count": 3,
   "id": "7115f6c9",
   "metadata": {},
   "outputs": [
    {
     "name": "stdout",
     "output_type": "stream",
     "text": [
      "\n",
      "=== Spark Configuration Parameters ===\n",
      "spark.ui.bindAddress: 0.0.0.0\n",
      "spark.driver.extraJavaOptions: -Djava.net.preferIPv6Addresses=false -XX:+IgnoreUnrecognizedVMOptions --add-opens=java.base/java.lang=ALL-UNNAMED --add-opens=java.base/java.lang.invoke=ALL-UNNAMED --add-opens=java.base/java.lang.reflect=ALL-UNNAMED --add-opens=java.base/java.io=ALL-UNNAMED --add-opens=java.base/java.net=ALL-UNNAMED --add-opens=java.base/java.nio=ALL-UNNAMED --add-opens=java.base/java.util=ALL-UNNAMED --add-opens=java.base/java.util.concurrent=ALL-UNNAMED --add-opens=java.base/java.util.concurrent.atomic=ALL-UNNAMED --add-opens=java.base/jdk.internal.ref=ALL-UNNAMED --add-opens=java.base/sun.nio.ch=ALL-UNNAMED --add-opens=java.base/sun.nio.cs=ALL-UNNAMED --add-opens=java.base/sun.security.action=ALL-UNNAMED --add-opens=java.base/sun.util.calendar=ALL-UNNAMED --add-opens=java.security.jgss/sun.security.krb5=ALL-UNNAMED -Djdk.reflect.useDirectMethodHandle=false\n",
      "spark.app.submitTime: 1745530312641\n",
      "spark.default.parallelism: 12\n",
      "spark.driver.memory: 4g\n",
      "spark.executor.id: driver\n",
      "spark.driver.host: localhost\n",
      "spark.sql.shuffle.partitions: 12\n",
      "spark.ui.port: 4040\n",
      "spark.executor.cores: 4\n",
      "spark.serializer: org.apache.spark.serializer.KryoSerializer\n",
      "spark.driver.port: 33585\n",
      "spark.app.name: WordCountWithDataFrame\n",
      "spark.rdd.compress: True\n",
      "spark.executor.extraJavaOptions: -Djava.net.preferIPv6Addresses=false -XX:+IgnoreUnrecognizedVMOptions --add-opens=java.base/java.lang=ALL-UNNAMED --add-opens=java.base/java.lang.invoke=ALL-UNNAMED --add-opens=java.base/java.lang.reflect=ALL-UNNAMED --add-opens=java.base/java.io=ALL-UNNAMED --add-opens=java.base/java.net=ALL-UNNAMED --add-opens=java.base/java.nio=ALL-UNNAMED --add-opens=java.base/java.util=ALL-UNNAMED --add-opens=java.base/java.util.concurrent=ALL-UNNAMED --add-opens=java.base/java.util.concurrent.atomic=ALL-UNNAMED --add-opens=java.base/jdk.internal.ref=ALL-UNNAMED --add-opens=java.base/sun.nio.ch=ALL-UNNAMED --add-opens=java.base/sun.nio.cs=ALL-UNNAMED --add-opens=java.base/sun.security.action=ALL-UNNAMED --add-opens=java.base/sun.util.calendar=ALL-UNNAMED --add-opens=java.security.jgss/sun.security.krb5=ALL-UNNAMED -Djdk.reflect.useDirectMethodHandle=false\n",
      "spark.serializer.objectStreamReset: 100\n",
      "spark.driver.maxResultSize: 2g\n",
      "spark.master: local[*]\n",
      "spark.submit.pyFiles: \n",
      "spark.executor.memory: 8g\n",
      "spark.submit.deployMode: client\n",
      "spark.app.id: local-1745530313338\n",
      "spark.app.startTime: 1745530312793\n",
      "spark.sql.warehouse.dir: file:/home/dolmachi/Projects/ITMO/MLOps/MLOps-lab5/notebook/spark-warehouse\n",
      "spark.ui.showConsoleProgress: true\n",
      "spark.sql.execution.arrow.pyspark.enabled: true\n",
      "=== End Configuration ===\n",
      "\n"
     ]
    }
   ],
   "source": [
    "print(\"\\n=== Spark Configuration Parameters ===\")\n",
    "for k, v in spark.sparkContext.getConf().getAll():\n",
    "    print(f\"{k}: {v}\")\n",
    "print(\"=== End Configuration ===\\n\")"
   ]
  },
  {
   "cell_type": "markdown",
   "id": "ddd44e5f",
   "metadata": {},
   "source": [
    "## Модель"
   ]
  },
  {
   "cell_type": "markdown",
   "id": "1f58ea99",
   "metadata": {},
   "source": [
    "### Общая информация"
   ]
  },
  {
   "cell_type": "code",
   "execution_count": null,
   "id": "f4d952d7",
   "metadata": {},
   "outputs": [],
   "source": [
    "# Создаем сессию\n",
    "spark = SparkSession.builder \\\n",
    "    .appName(\"KMeans\") \\\n",
    "    .master(\"local[*]\") \\\n",
    "    .config(conf=spark_conf) \\\n",
    "    .getOrCreate()"
   ]
  },
  {
   "cell_type": "code",
   "execution_count": null,
   "id": "8b9772f3",
   "metadata": {},
   "outputs": [],
   "source": [
    "# Считываем данные и смотрим основную информацию\n",
    "df = spark.read.option(\"header\", True) \\\n",
    "               .option(\"sep\", \"\\t\") \\\n",
    "               .option(\"inferSchema\", True) \\\n",
    "               .csv(\"../data/products.csv\")\n",
    "               \n",
    "df.show(5, truncate=False)"
   ]
  },
  {
   "cell_type": "code",
   "execution_count": 6,
   "id": "ab4675fd",
   "metadata": {},
   "outputs": [
    {
     "name": "stdout",
     "output_type": "stream",
     "text": [
      "root\n",
      " |-- code: double (nullable = true)\n",
      " |-- url: string (nullable = true)\n",
      " |-- creator: string (nullable = true)\n",
      " |-- created_t: integer (nullable = true)\n",
      " |-- created_datetime: timestamp (nullable = true)\n",
      " |-- last_modified_t: integer (nullable = true)\n",
      " |-- last_modified_datetime: timestamp (nullable = true)\n",
      " |-- last_modified_by: string (nullable = true)\n",
      " |-- last_updated_t: integer (nullable = true)\n",
      " |-- last_updated_datetime: timestamp (nullable = true)\n",
      " |-- product_name: string (nullable = true)\n",
      " |-- abbreviated_product_name: string (nullable = true)\n",
      " |-- generic_name: string (nullable = true)\n",
      " |-- quantity: string (nullable = true)\n",
      " |-- packaging: string (nullable = true)\n",
      " |-- packaging_tags: string (nullable = true)\n",
      " |-- packaging_en: string (nullable = true)\n",
      " |-- packaging_text: string (nullable = true)\n",
      " |-- brands: string (nullable = true)\n",
      " |-- brands_tags: string (nullable = true)\n",
      " |-- brands_en: string (nullable = true)\n",
      " |-- categories: string (nullable = true)\n",
      " |-- categories_tags: string (nullable = true)\n",
      " |-- categories_en: string (nullable = true)\n",
      " |-- origins: string (nullable = true)\n",
      " |-- origins_tags: string (nullable = true)\n",
      " |-- origins_en: string (nullable = true)\n",
      " |-- manufacturing_places: string (nullable = true)\n",
      " |-- manufacturing_places_tags: string (nullable = true)\n",
      " |-- labels: string (nullable = true)\n",
      " |-- labels_tags: string (nullable = true)\n",
      " |-- labels_en: string (nullable = true)\n",
      " |-- emb_codes: string (nullable = true)\n",
      " |-- emb_codes_tags: string (nullable = true)\n",
      " |-- first_packaging_code_geo: string (nullable = true)\n",
      " |-- cities: string (nullable = true)\n",
      " |-- cities_tags: string (nullable = true)\n",
      " |-- purchase_places: string (nullable = true)\n",
      " |-- stores: string (nullable = true)\n",
      " |-- countries: string (nullable = true)\n",
      " |-- countries_tags: string (nullable = true)\n",
      " |-- countries_en: string (nullable = true)\n",
      " |-- ingredients_text: string (nullable = true)\n",
      " |-- ingredients_tags: string (nullable = true)\n",
      " |-- ingredients_analysis_tags: string (nullable = true)\n",
      " |-- allergens: string (nullable = true)\n",
      " |-- allergens_en: string (nullable = true)\n",
      " |-- traces: string (nullable = true)\n",
      " |-- traces_tags: string (nullable = true)\n",
      " |-- traces_en: string (nullable = true)\n",
      " |-- serving_size: string (nullable = true)\n",
      " |-- serving_quantity: double (nullable = true)\n",
      " |-- no_nutrition_data: string (nullable = true)\n",
      " |-- additives_n: integer (nullable = true)\n",
      " |-- additives: string (nullable = true)\n",
      " |-- additives_tags: string (nullable = true)\n",
      " |-- additives_en: string (nullable = true)\n",
      " |-- nutriscore_score: integer (nullable = true)\n",
      " |-- nutriscore_grade: string (nullable = true)\n",
      " |-- nova_group: integer (nullable = true)\n",
      " |-- pnns_groups_1: string (nullable = true)\n",
      " |-- pnns_groups_2: string (nullable = true)\n",
      " |-- food_groups: string (nullable = true)\n",
      " |-- food_groups_tags: string (nullable = true)\n",
      " |-- food_groups_en: string (nullable = true)\n",
      " |-- states: string (nullable = true)\n",
      " |-- states_tags: string (nullable = true)\n",
      " |-- states_en: string (nullable = true)\n",
      " |-- brand_owner: string (nullable = true)\n",
      " |-- environmental_score_score: integer (nullable = true)\n",
      " |-- environmental_score_grade: string (nullable = true)\n",
      " |-- nutrient_levels_tags: string (nullable = true)\n",
      " |-- product_quantity: double (nullable = true)\n",
      " |-- owner: string (nullable = true)\n",
      " |-- data_quality_errors_tags: string (nullable = true)\n",
      " |-- unique_scans_n: integer (nullable = true)\n",
      " |-- popularity_tags: string (nullable = true)\n",
      " |-- completeness: double (nullable = true)\n",
      " |-- last_image_t: integer (nullable = true)\n",
      " |-- last_image_datetime: timestamp (nullable = true)\n",
      " |-- main_category: string (nullable = true)\n",
      " |-- main_category_en: string (nullable = true)\n",
      " |-- image_url: string (nullable = true)\n",
      " |-- image_small_url: string (nullable = true)\n",
      " |-- image_ingredients_url: string (nullable = true)\n",
      " |-- image_ingredients_small_url: string (nullable = true)\n",
      " |-- image_nutrition_url: string (nullable = true)\n",
      " |-- image_nutrition_small_url: string (nullable = true)\n",
      " |-- energy-kj_100g: double (nullable = true)\n",
      " |-- energy-kcal_100g: double (nullable = true)\n",
      " |-- energy_100g: double (nullable = true)\n",
      " |-- energy-from-fat_100g: double (nullable = true)\n",
      " |-- fat_100g: double (nullable = true)\n",
      " |-- saturated-fat_100g: double (nullable = true)\n",
      " |-- butyric-acid_100g: double (nullable = true)\n",
      " |-- caproic-acid_100g: double (nullable = true)\n",
      " |-- caprylic-acid_100g: double (nullable = true)\n",
      " |-- capric-acid_100g: double (nullable = true)\n",
      " |-- lauric-acid_100g: double (nullable = true)\n",
      " |-- myristic-acid_100g: double (nullable = true)\n",
      " |-- palmitic-acid_100g: double (nullable = true)\n",
      " |-- stearic-acid_100g: double (nullable = true)\n",
      " |-- arachidic-acid_100g: double (nullable = true)\n",
      " |-- behenic-acid_100g: double (nullable = true)\n",
      " |-- lignoceric-acid_100g: double (nullable = true)\n",
      " |-- cerotic-acid_100g: double (nullable = true)\n",
      " |-- montanic-acid_100g: double (nullable = true)\n",
      " |-- melissic-acid_100g: double (nullable = true)\n",
      " |-- unsaturated-fat_100g: double (nullable = true)\n",
      " |-- monounsaturated-fat_100g: double (nullable = true)\n",
      " |-- omega-9-fat_100g: double (nullable = true)\n",
      " |-- polyunsaturated-fat_100g: double (nullable = true)\n",
      " |-- omega-3-fat_100g: double (nullable = true)\n",
      " |-- omega-6-fat_100g: double (nullable = true)\n",
      " |-- alpha-linolenic-acid_100g: double (nullable = true)\n",
      " |-- eicosapentaenoic-acid_100g: double (nullable = true)\n",
      " |-- docosahexaenoic-acid_100g: double (nullable = true)\n",
      " |-- linoleic-acid_100g: double (nullable = true)\n",
      " |-- arachidonic-acid_100g: double (nullable = true)\n",
      " |-- gamma-linolenic-acid_100g: double (nullable = true)\n",
      " |-- dihomo-gamma-linolenic-acid_100g: double (nullable = true)\n",
      " |-- oleic-acid_100g: double (nullable = true)\n",
      " |-- elaidic-acid_100g: double (nullable = true)\n",
      " |-- gondoic-acid_100g: double (nullable = true)\n",
      " |-- mead-acid_100g: double (nullable = true)\n",
      " |-- erucic-acid_100g: double (nullable = true)\n",
      " |-- nervonic-acid_100g: double (nullable = true)\n",
      " |-- trans-fat_100g: double (nullable = true)\n",
      " |-- cholesterol_100g: double (nullable = true)\n",
      " |-- carbohydrates_100g: double (nullable = true)\n",
      " |-- sugars_100g: double (nullable = true)\n",
      " |-- added-sugars_100g: double (nullable = true)\n",
      " |-- sucrose_100g: double (nullable = true)\n",
      " |-- glucose_100g: double (nullable = true)\n",
      " |-- fructose_100g: double (nullable = true)\n",
      " |-- galactose_100g: double (nullable = true)\n",
      " |-- lactose_100g: double (nullable = true)\n",
      " |-- maltose_100g: double (nullable = true)\n",
      " |-- maltodextrins_100g: double (nullable = true)\n",
      " |-- starch_100g: double (nullable = true)\n",
      " |-- polyols_100g: double (nullable = true)\n",
      " |-- erythritol_100g: double (nullable = true)\n",
      " |-- fiber_100g: double (nullable = true)\n",
      " |-- soluble-fiber_100g: double (nullable = true)\n",
      " |-- insoluble-fiber_100g: double (nullable = true)\n",
      " |-- proteins_100g: double (nullable = true)\n",
      " |-- casein_100g: double (nullable = true)\n",
      " |-- serum-proteins_100g: double (nullable = true)\n",
      " |-- nucleotides_100g: double (nullable = true)\n",
      " |-- salt_100g: double (nullable = true)\n",
      " |-- added-salt_100g: double (nullable = true)\n",
      " |-- sodium_100g: double (nullable = true)\n",
      " |-- alcohol_100g: double (nullable = true)\n",
      " |-- vitamin-a_100g: double (nullable = true)\n",
      " |-- beta-carotene_100g: double (nullable = true)\n",
      " |-- vitamin-d_100g: double (nullable = true)\n",
      " |-- vitamin-e_100g: double (nullable = true)\n",
      " |-- vitamin-k_100g: double (nullable = true)\n",
      " |-- vitamin-c_100g: double (nullable = true)\n",
      " |-- vitamin-b1_100g: double (nullable = true)\n",
      " |-- vitamin-b2_100g: double (nullable = true)\n",
      " |-- vitamin-pp_100g: double (nullable = true)\n",
      " |-- vitamin-b6_100g: double (nullable = true)\n",
      " |-- vitamin-b9_100g: double (nullable = true)\n",
      " |-- folates_100g: double (nullable = true)\n",
      " |-- vitamin-b12_100g: double (nullable = true)\n",
      " |-- biotin_100g: double (nullable = true)\n",
      " |-- pantothenic-acid_100g: double (nullable = true)\n",
      " |-- silica_100g: double (nullable = true)\n",
      " |-- bicarbonate_100g: double (nullable = true)\n",
      " |-- potassium_100g: double (nullable = true)\n",
      " |-- chloride_100g: double (nullable = true)\n",
      " |-- calcium_100g: double (nullable = true)\n",
      " |-- phosphorus_100g: double (nullable = true)\n",
      " |-- iron_100g: double (nullable = true)\n",
      " |-- magnesium_100g: double (nullable = true)\n",
      " |-- zinc_100g: double (nullable = true)\n",
      " |-- copper_100g: double (nullable = true)\n",
      " |-- manganese_100g: double (nullable = true)\n",
      " |-- fluoride_100g: double (nullable = true)\n",
      " |-- selenium_100g: double (nullable = true)\n",
      " |-- chromium_100g: double (nullable = true)\n",
      " |-- molybdenum_100g: double (nullable = true)\n",
      " |-- iodine_100g: double (nullable = true)\n",
      " |-- caffeine_100g: double (nullable = true)\n",
      " |-- taurine_100g: double (nullable = true)\n",
      " |-- ph_100g: double (nullable = true)\n",
      " |-- fruits-vegetables-nuts_100g: double (nullable = true)\n",
      " |-- fruits-vegetables-nuts-dried_100g: double (nullable = true)\n",
      " |-- fruits-vegetables-nuts-estimate_100g: double (nullable = true)\n",
      " |-- fruits-vegetables-nuts-estimate-from-ingredients_100g: double (nullable = true)\n",
      " |-- collagen-meat-protein-ratio_100g: double (nullable = true)\n",
      " |-- cocoa_100g: double (nullable = true)\n",
      " |-- chlorophyl_100g: double (nullable = true)\n",
      " |-- carbon-footprint_100g: double (nullable = true)\n",
      " |-- carbon-footprint-from-meat-or-fish_100g: double (nullable = true)\n",
      " |-- nutrition-score-fr_100g: integer (nullable = true)\n",
      " |-- nutrition-score-uk_100g: integer (nullable = true)\n",
      " |-- glycemic-index_100g: double (nullable = true)\n",
      " |-- water-hardness_100g: double (nullable = true)\n",
      " |-- choline_100g: double (nullable = true)\n",
      " |-- phylloquinone_100g: double (nullable = true)\n",
      " |-- beta-glucan_100g: double (nullable = true)\n",
      " |-- inositol_100g: double (nullable = true)\n",
      " |-- carnitine_100g: double (nullable = true)\n",
      " |-- sulphate_100g: double (nullable = true)\n",
      " |-- nitrate_100g: double (nullable = true)\n",
      " |-- acidity_100g: double (nullable = true)\n",
      " |-- carbohydrates-total_100g: integer (nullable = true)\n",
      "\n"
     ]
    }
   ],
   "source": [
    "# Столбцы и их тип данных\n",
    "df.printSchema()"
   ]
  },
  {
   "cell_type": "code",
   "execution_count": 7,
   "id": "3f1f6d62",
   "metadata": {},
   "outputs": [
    {
     "name": "stderr",
     "output_type": "stream",
     "text": [
      "[Stage 3:================================================>       (71 + 11) / 82]\r"
     ]
    },
    {
     "name": "stdout",
     "output_type": "stream",
     "text": [
      "Число строк: 3801647\n",
      "Кол-во колонок: 209\n"
     ]
    },
    {
     "name": "stderr",
     "output_type": "stream",
     "text": [
      "                                                                                \r"
     ]
    }
   ],
   "source": [
    "print(\"Число строк:\", df.count())\n",
    "print(\"Кол-во колонок:\", len(df.columns))"
   ]
  },
  {
   "cell_type": "markdown",
   "id": "e5d62b98",
   "metadata": {},
   "source": [
    "### Фильтрация и обработка\n",
    "\n",
    "Оставим только колонки с питательными веществами, т.к. остальные признаки к свойствам самих продуктов мало относятся"
   ]
  },
  {
   "cell_type": "code",
   "execution_count": 8,
   "id": "ccfe967a",
   "metadata": {},
   "outputs": [
    {
     "name": "stdout",
     "output_type": "stream",
     "text": [
      "0: code\n",
      "1: url\n",
      "2: creator\n",
      "3: created_t\n",
      "4: created_datetime\n",
      "5: last_modified_t\n",
      "6: last_modified_datetime\n",
      "7: last_modified_by\n",
      "8: last_updated_t\n",
      "9: last_updated_datetime\n",
      "10: product_name\n",
      "11: abbreviated_product_name\n",
      "12: generic_name\n",
      "13: quantity\n",
      "14: packaging\n",
      "15: packaging_tags\n",
      "16: packaging_en\n",
      "17: packaging_text\n",
      "18: brands\n",
      "19: brands_tags\n",
      "20: brands_en\n",
      "21: categories\n",
      "22: categories_tags\n",
      "23: categories_en\n",
      "24: origins\n",
      "25: origins_tags\n",
      "26: origins_en\n",
      "27: manufacturing_places\n",
      "28: manufacturing_places_tags\n",
      "29: labels\n",
      "30: labels_tags\n",
      "31: labels_en\n",
      "32: emb_codes\n",
      "33: emb_codes_tags\n",
      "34: first_packaging_code_geo\n",
      "35: cities\n",
      "36: cities_tags\n",
      "37: purchase_places\n",
      "38: stores\n",
      "39: countries\n",
      "40: countries_tags\n",
      "41: countries_en\n",
      "42: ingredients_text\n",
      "43: ingredients_tags\n",
      "44: ingredients_analysis_tags\n",
      "45: allergens\n",
      "46: allergens_en\n",
      "47: traces\n",
      "48: traces_tags\n",
      "49: traces_en\n",
      "50: serving_size\n",
      "51: serving_quantity\n",
      "52: no_nutrition_data\n",
      "53: additives_n\n",
      "54: additives\n",
      "55: additives_tags\n",
      "56: additives_en\n",
      "57: nutriscore_score\n",
      "58: nutriscore_grade\n",
      "59: nova_group\n",
      "60: pnns_groups_1\n",
      "61: pnns_groups_2\n",
      "62: food_groups\n",
      "63: food_groups_tags\n",
      "64: food_groups_en\n",
      "65: states\n",
      "66: states_tags\n",
      "67: states_en\n",
      "68: brand_owner\n",
      "69: environmental_score_score\n",
      "70: environmental_score_grade\n",
      "71: nutrient_levels_tags\n",
      "72: product_quantity\n",
      "73: owner\n",
      "74: data_quality_errors_tags\n",
      "75: unique_scans_n\n",
      "76: popularity_tags\n",
      "77: completeness\n",
      "78: last_image_t\n",
      "79: last_image_datetime\n",
      "80: main_category\n",
      "81: main_category_en\n",
      "82: image_url\n",
      "83: image_small_url\n",
      "84: image_ingredients_url\n",
      "85: image_ingredients_small_url\n",
      "86: image_nutrition_url\n",
      "87: image_nutrition_small_url\n",
      "88: energy-kj_100g\n",
      "89: energy-kcal_100g\n",
      "90: energy_100g\n",
      "91: energy-from-fat_100g\n",
      "92: fat_100g\n",
      "93: saturated-fat_100g\n",
      "94: butyric-acid_100g\n",
      "95: caproic-acid_100g\n",
      "96: caprylic-acid_100g\n",
      "97: capric-acid_100g\n",
      "98: lauric-acid_100g\n",
      "99: myristic-acid_100g\n",
      "100: palmitic-acid_100g\n",
      "101: stearic-acid_100g\n",
      "102: arachidic-acid_100g\n",
      "103: behenic-acid_100g\n",
      "104: lignoceric-acid_100g\n",
      "105: cerotic-acid_100g\n",
      "106: montanic-acid_100g\n",
      "107: melissic-acid_100g\n",
      "108: unsaturated-fat_100g\n",
      "109: monounsaturated-fat_100g\n",
      "110: omega-9-fat_100g\n",
      "111: polyunsaturated-fat_100g\n",
      "112: omega-3-fat_100g\n",
      "113: omega-6-fat_100g\n",
      "114: alpha-linolenic-acid_100g\n",
      "115: eicosapentaenoic-acid_100g\n",
      "116: docosahexaenoic-acid_100g\n",
      "117: linoleic-acid_100g\n",
      "118: arachidonic-acid_100g\n",
      "119: gamma-linolenic-acid_100g\n",
      "120: dihomo-gamma-linolenic-acid_100g\n",
      "121: oleic-acid_100g\n",
      "122: elaidic-acid_100g\n",
      "123: gondoic-acid_100g\n",
      "124: mead-acid_100g\n",
      "125: erucic-acid_100g\n",
      "126: nervonic-acid_100g\n",
      "127: trans-fat_100g\n",
      "128: cholesterol_100g\n",
      "129: carbohydrates_100g\n",
      "130: sugars_100g\n",
      "131: added-sugars_100g\n",
      "132: sucrose_100g\n",
      "133: glucose_100g\n",
      "134: fructose_100g\n",
      "135: galactose_100g\n",
      "136: lactose_100g\n",
      "137: maltose_100g\n",
      "138: maltodextrins_100g\n",
      "139: starch_100g\n",
      "140: polyols_100g\n",
      "141: erythritol_100g\n",
      "142: fiber_100g\n",
      "143: soluble-fiber_100g\n",
      "144: insoluble-fiber_100g\n",
      "145: proteins_100g\n",
      "146: casein_100g\n",
      "147: serum-proteins_100g\n",
      "148: nucleotides_100g\n",
      "149: salt_100g\n",
      "150: added-salt_100g\n",
      "151: sodium_100g\n",
      "152: alcohol_100g\n",
      "153: vitamin-a_100g\n",
      "154: beta-carotene_100g\n",
      "155: vitamin-d_100g\n",
      "156: vitamin-e_100g\n",
      "157: vitamin-k_100g\n",
      "158: vitamin-c_100g\n",
      "159: vitamin-b1_100g\n",
      "160: vitamin-b2_100g\n",
      "161: vitamin-pp_100g\n",
      "162: vitamin-b6_100g\n",
      "163: vitamin-b9_100g\n",
      "164: folates_100g\n",
      "165: vitamin-b12_100g\n",
      "166: biotin_100g\n",
      "167: pantothenic-acid_100g\n",
      "168: silica_100g\n",
      "169: bicarbonate_100g\n",
      "170: potassium_100g\n",
      "171: chloride_100g\n",
      "172: calcium_100g\n",
      "173: phosphorus_100g\n",
      "174: iron_100g\n",
      "175: magnesium_100g\n",
      "176: zinc_100g\n",
      "177: copper_100g\n",
      "178: manganese_100g\n",
      "179: fluoride_100g\n",
      "180: selenium_100g\n",
      "181: chromium_100g\n",
      "182: molybdenum_100g\n",
      "183: iodine_100g\n",
      "184: caffeine_100g\n",
      "185: taurine_100g\n",
      "186: ph_100g\n",
      "187: fruits-vegetables-nuts_100g\n",
      "188: fruits-vegetables-nuts-dried_100g\n",
      "189: fruits-vegetables-nuts-estimate_100g\n",
      "190: fruits-vegetables-nuts-estimate-from-ingredients_100g\n",
      "191: collagen-meat-protein-ratio_100g\n",
      "192: cocoa_100g\n",
      "193: chlorophyl_100g\n",
      "194: carbon-footprint_100g\n",
      "195: carbon-footprint-from-meat-or-fish_100g\n",
      "196: nutrition-score-fr_100g\n",
      "197: nutrition-score-uk_100g\n",
      "198: glycemic-index_100g\n",
      "199: water-hardness_100g\n",
      "200: choline_100g\n",
      "201: phylloquinone_100g\n",
      "202: beta-glucan_100g\n",
      "203: inositol_100g\n",
      "204: carnitine_100g\n",
      "205: sulphate_100g\n",
      "206: nitrate_100g\n",
      "207: acidity_100g\n",
      "208: carbohydrates-total_100g\n"
     ]
    }
   ],
   "source": [
    "# Пронумерованные столбцы\n",
    "# Ищем с какого столбца начинаются признаки с веществами\n",
    "for idx, col_name in enumerate(df.columns):\n",
    "    print(f\"{idx}: {col_name}\")"
   ]
  },
  {
   "cell_type": "code",
   "execution_count": null,
   "id": "ddd87324",
   "metadata": {},
   "outputs": [],
   "source": [
    "# Фильтрация\n",
    "nutrient_columns = df.columns[88:]\n",
    "df_nutrients = df.select(nutrient_columns)\n",
    "\n",
    "print(f\"Оставлено колонок: {len(nutrient_columns)}\")\n",
    "df_nutrients.printSchema()"
   ]
  },
  {
   "cell_type": "code",
   "execution_count": 10,
   "id": "8bdfbb25",
   "metadata": {},
   "outputs": [
    {
     "name": "stderr",
     "output_type": "stream",
     "text": [
      "[Stage 7:=================================================>      (72 + 10) / 82]\r"
     ]
    },
    {
     "name": "stdout",
     "output_type": "stream",
     "text": [
      "Оставшееся кол-во строк после фильтрации: 2991860\n"
     ]
    },
    {
     "name": "stderr",
     "output_type": "stream",
     "text": [
      "                                                                                \r"
     ]
    }
   ],
   "source": [
    "# Также удалим полностью пустые записи\n",
    "df_cleaned = df_nutrients.filter(\n",
    "    ~reduce(lambda a, b: a & b, [col(c).isNull() for c in df_nutrients.columns])\n",
    ")\n",
    "\n",
    "remaining_count = df_cleaned.count()\n",
    "\n",
    "print(f\"Оставшееся кол-во строк после фильтрации: {remaining_count}\")"
   ]
  },
  {
   "cell_type": "code",
   "execution_count": 13,
   "id": "2661a6cb",
   "metadata": {},
   "outputs": [],
   "source": [
    "# В конце заполним все пропущенные записи нулями\n",
    "df_filled = df_cleaned.fillna(0.0)"
   ]
  },
  {
   "cell_type": "markdown",
   "id": "66b166b2",
   "metadata": {},
   "source": [
    "Взглянем на статистики"
   ]
  },
  {
   "cell_type": "code",
   "execution_count": null,
   "id": "caa009b1",
   "metadata": {},
   "outputs": [],
   "source": [
    "df_filled.describe().show(truncate=False)"
   ]
  },
  {
   "cell_type": "markdown",
   "id": "7723b266",
   "metadata": {},
   "source": [
    "Среди множества столбцов замечены выбросы. Будем их отлавливать по общему диапазону $[0, 1000]$ и заменять на медиану, соответствующую столбцу, в котором аномальное значение находится."
   ]
  },
  {
   "cell_type": "code",
   "execution_count": 15,
   "id": "53500afe",
   "metadata": {},
   "outputs": [
    {
     "name": "stderr",
     "output_type": "stream",
     "text": [
      "                                                                                \r"
     ]
    }
   ],
   "source": [
    "# Верхняя и нижняя границы\n",
    "lower_bound = 0.0\n",
    "upper_bound = 1000.0\n",
    "\n",
    "# Подсчитываем медианы\n",
    "median_exprs = [expr(f\"percentile_approx(`{c}`, 0.5)\").alias(c) for c in df_filled.columns]\n",
    "medians = df_filled.agg(*median_exprs).collect()[0].asDict()\n",
    "\n",
    "# Заменим выбросы на медиану\n",
    "df_cleansed = df_filled\n",
    "for c in df_filled.columns:\n",
    "    if c in medians and medians[c] is not None:\n",
    "        median = medians[c]\n",
    "        df_cleansed = df_cleansed.withColumn(\n",
    "            c,\n",
    "            when((col(c) < lower_bound) | (col(c) > upper_bound), median).otherwise(col(c))\n",
    "        )"
   ]
  },
  {
   "cell_type": "code",
   "execution_count": null,
   "id": "476d542a",
   "metadata": {},
   "outputs": [],
   "source": [
    "df_cleansed.describe().show(truncate=False)"
   ]
  },
  {
   "cell_type": "markdown",
   "id": "9bbf8b37",
   "metadata": {},
   "source": [
    "### Подготовка"
   ]
  },
  {
   "cell_type": "code",
   "execution_count": 22,
   "id": "0f143c95",
   "metadata": {},
   "outputs": [],
   "source": [
    "# Преобразование данных в вектор\n",
    "assembler = VectorAssembler(inputCols=nutrient_columns, outputCol=\"features\")\n",
    "assembled_df = assembler.transform(df_cleansed)"
   ]
  },
  {
   "cell_type": "code",
   "execution_count": 23,
   "id": "28e2c742",
   "metadata": {},
   "outputs": [
    {
     "name": "stderr",
     "output_type": "stream",
     "text": [
      "                                                                                \r"
     ]
    }
   ],
   "source": [
    "# Нормализация\n",
    "scaler = StandardScaler(inputCol=\"features\", outputCol=\"scaled_features\", withMean=True, withStd=True)\n",
    "scaler_model = scaler.fit(assembled_df)\n",
    "scaled_df = scaler_model.transform(assembled_df)"
   ]
  },
  {
   "cell_type": "markdown",
   "id": "4f5490d0",
   "metadata": {},
   "source": [
    "### Модель\n",
    "\n",
    "Подберем оптимальное кол-во кластеров по правилу локтя и по силуэтному коэффициенту."
   ]
  },
  {
   "cell_type": "code",
   "execution_count": 25,
   "id": "6d3b19c2",
   "metadata": {},
   "outputs": [
    {
     "name": "stderr",
     "output_type": "stream",
     "text": [
      "                                                                                \r"
     ]
    },
    {
     "name": "stdout",
     "output_type": "stream",
     "text": [
      "k = 2, WSSSE = 350624940.6548081\n"
     ]
    },
    {
     "name": "stderr",
     "output_type": "stream",
     "text": [
      "                                                                                \r"
     ]
    },
    {
     "name": "stdout",
     "output_type": "stream",
     "text": [
      "k = 3, WSSSE = 346385530.97950596\n"
     ]
    },
    {
     "name": "stderr",
     "output_type": "stream",
     "text": [
      "                                                                                \r"
     ]
    },
    {
     "name": "stdout",
     "output_type": "stream",
     "text": [
      "k = 4, WSSSE = 354302725.35706055\n"
     ]
    },
    {
     "name": "stderr",
     "output_type": "stream",
     "text": [
      "                                                                                \r"
     ]
    },
    {
     "name": "stdout",
     "output_type": "stream",
     "text": [
      "k = 5, WSSSE = 335781371.10900027\n"
     ]
    },
    {
     "name": "stderr",
     "output_type": "stream",
     "text": [
      "                                                                                \r"
     ]
    },
    {
     "name": "stdout",
     "output_type": "stream",
     "text": [
      "k = 6, WSSSE = 336138456.1519311\n"
     ]
    },
    {
     "name": "stderr",
     "output_type": "stream",
     "text": [
      "                                                                                \r"
     ]
    },
    {
     "name": "stdout",
     "output_type": "stream",
     "text": [
      "k = 7, WSSSE = 323408461.03546935\n"
     ]
    },
    {
     "name": "stderr",
     "output_type": "stream",
     "text": [
      "                                                                                \r"
     ]
    },
    {
     "name": "stdout",
     "output_type": "stream",
     "text": [
      "k = 8, WSSSE = 331981124.0326899\n"
     ]
    },
    {
     "name": "stderr",
     "output_type": "stream",
     "text": [
      "                                                                                \r"
     ]
    },
    {
     "name": "stdout",
     "output_type": "stream",
     "text": [
      "k = 9, WSSSE = 326379660.3854433\n"
     ]
    },
    {
     "name": "stderr",
     "output_type": "stream",
     "text": [
      "                                                                                \r"
     ]
    },
    {
     "name": "stdout",
     "output_type": "stream",
     "text": [
      "k = 10, WSSSE = 320975160.34345144\n"
     ]
    },
    {
     "name": "stderr",
     "output_type": "stream",
     "text": [
      "                                                                                \r"
     ]
    },
    {
     "name": "stdout",
     "output_type": "stream",
     "text": [
      "k = 11, WSSSE = 319592277.6098461\n"
     ]
    },
    {
     "name": "stderr",
     "output_type": "stream",
     "text": [
      "                                                                                \r"
     ]
    },
    {
     "name": "stdout",
     "output_type": "stream",
     "text": [
      "k = 12, WSSSE = 311399055.9783553\n"
     ]
    },
    {
     "name": "stderr",
     "output_type": "stream",
     "text": [
      "                                                                                \r"
     ]
    },
    {
     "name": "stdout",
     "output_type": "stream",
     "text": [
      "k = 13, WSSSE = 305888993.793573\n"
     ]
    },
    {
     "name": "stderr",
     "output_type": "stream",
     "text": [
      "                                                                                \r"
     ]
    },
    {
     "name": "stdout",
     "output_type": "stream",
     "text": [
      "k = 14, WSSSE = 305054087.30813944\n"
     ]
    }
   ],
   "source": [
    "# Правило локтя\n",
    "errors = []\n",
    "k_values = list(range(2, 15)) \n",
    "\n",
    "for k in k_values:\n",
    "    kmeans = KMeans(k=k, seed=42, featuresCol=\"scaled_features\")\n",
    "    model = kmeans.fit(scaled_df)\n",
    "    wssse = model.summary.trainingCost\n",
    "    errors.append(wssse)\n",
    "    print(f\"k = {k}, WSSSE = {wssse}\")"
   ]
  },
  {
   "cell_type": "code",
   "execution_count": 26,
   "id": "d807d717",
   "metadata": {},
   "outputs": [
    {
     "data": {
      "image/png": "[encoded data removed]",
      "text/plain": [
       "<Figure size 800x500 with 1 Axes>"
      ]
     },
     "metadata": {},
     "output_type": "display_data"
    }
   ],
   "source": [
    "plt.figure(figsize=(8, 5))\n",
    "plt.plot(k_values, errors, marker='o')\n",
    "plt.xlabel(\"Number of Clusters (k)\")\n",
    "plt.ylabel(\"WSSSE (Within Set Sum of Squared Errors)\")\n",
    "plt.title(\"Elbow Method for Optimal k\")\n",
    "plt.grid(True)\n",
    "plt.show()"
   ]
  },
  {
   "cell_type": "code",
   "execution_count": 27,
   "id": "fcd58612",
   "metadata": {},
   "outputs": [
    {
     "name": "stderr",
     "output_type": "stream",
     "text": [
      "                                                                                \r"
     ]
    },
    {
     "name": "stdout",
     "output_type": "stream",
     "text": [
      "k = 2, silhouette = 1.0000\n"
     ]
    },
    {
     "name": "stderr",
     "output_type": "stream",
     "text": [
      "                                                                                \r"
     ]
    },
    {
     "name": "stdout",
     "output_type": "stream",
     "text": [
      "k = 3, silhouette = 0.9999\n"
     ]
    },
    {
     "name": "stderr",
     "output_type": "stream",
     "text": [
      "                                                                                \r"
     ]
    },
    {
     "name": "stdout",
     "output_type": "stream",
     "text": [
      "k = 4, silhouette = 0.7585\n"
     ]
    },
    {
     "name": "stderr",
     "output_type": "stream",
     "text": [
      "                                                                                \r"
     ]
    },
    {
     "name": "stdout",
     "output_type": "stream",
     "text": [
      "k = 5, silhouette = 0.9999\n"
     ]
    },
    {
     "name": "stderr",
     "output_type": "stream",
     "text": [
      "                                                                                \r"
     ]
    },
    {
     "name": "stdout",
     "output_type": "stream",
     "text": [
      "k = 6, silhouette = 0.9988\n"
     ]
    },
    {
     "name": "stderr",
     "output_type": "stream",
     "text": [
      "                                                                                \r"
     ]
    },
    {
     "name": "stdout",
     "output_type": "stream",
     "text": [
      "k = 7, silhouette = 0.9871\n"
     ]
    },
    {
     "name": "stderr",
     "output_type": "stream",
     "text": [
      "                                                                                \r"
     ]
    },
    {
     "name": "stdout",
     "output_type": "stream",
     "text": [
      "k = 8, silhouette = 0.9830\n"
     ]
    },
    {
     "name": "stderr",
     "output_type": "stream",
     "text": [
      "                                                                                \r"
     ]
    },
    {
     "name": "stdout",
     "output_type": "stream",
     "text": [
      "k = 9, silhouette = 0.0689\n"
     ]
    },
    {
     "name": "stderr",
     "output_type": "stream",
     "text": [
      "                                                                                \r"
     ]
    },
    {
     "name": "stdout",
     "output_type": "stream",
     "text": [
      "k = 10, silhouette = 0.0742\n"
     ]
    },
    {
     "name": "stderr",
     "output_type": "stream",
     "text": [
      "                                                                                \r"
     ]
    },
    {
     "name": "stdout",
     "output_type": "stream",
     "text": [
      "k = 11, silhouette = 0.9874\n"
     ]
    },
    {
     "name": "stderr",
     "output_type": "stream",
     "text": [
      "                                                                                \r"
     ]
    },
    {
     "name": "stdout",
     "output_type": "stream",
     "text": [
      "k = 12, silhouette = 0.9876\n"
     ]
    },
    {
     "name": "stderr",
     "output_type": "stream",
     "text": [
      "                                                                                \r"
     ]
    },
    {
     "name": "stdout",
     "output_type": "stream",
     "text": [
      "k = 13, silhouette = 0.0514\n"
     ]
    },
    {
     "name": "stderr",
     "output_type": "stream",
     "text": [
      "[Stage 909:======================================================>(81 + 1) / 82]\r"
     ]
    },
    {
     "name": "stdout",
     "output_type": "stream",
     "text": [
      "k = 14, silhouette = -0.0395\n"
     ]
    },
    {
     "name": "stderr",
     "output_type": "stream",
     "text": [
      "                                                                                \r"
     ]
    }
   ],
   "source": [
    "silhouette_scores = []\n",
    "k_values = list(range(2, 15))\n",
    "\n",
    "for k in k_values:\n",
    "    kmeans = KMeans(k=k, seed=42, featuresCol=\"scaled_features\", predictionCol=\"cluster\")\n",
    "    model = kmeans.fit(scaled_df)\n",
    "    predictions = model.transform(scaled_df)\n",
    "\n",
    "    evaluator = ClusteringEvaluator(\n",
    "        featuresCol=\"scaled_features\",\n",
    "        predictionCol=\"cluster\",\n",
    "        metricName=\"silhouette\",\n",
    "        distanceMeasure=\"squaredEuclidean\"\n",
    "    )\n",
    "    score = evaluator.evaluate(predictions)\n",
    "    silhouette_scores.append(score)\n",
    "    print(f\"k = {k}, silhouette = {score:.4f}\")"
   ]
  },
  {
   "cell_type": "code",
   "execution_count": null,
   "id": "c9941d6a",
   "metadata": {},
   "outputs": [],
   "source": [
    "plt.figure(figsize=(8, 5))\n",
    "plt.plot(k_values, silhouette_scores, marker='o')\n",
    "plt.xlabel(\"Number of Clusters (k)\")\n",
    "plt.ylabel(\"Silhouette Score\")\n",
    "plt.title(\"Silhouette Scores for Different k\")\n",
    "plt.grid(True)\n",
    "plt.show()"
   ]
  },
  {
   "cell_type": "markdown",
   "id": "685fc165",
   "metadata": {},
   "source": [
    "**Оптимальное кол-во кластеров**: 5"
   ]
  },
  {
   "cell_type": "code",
   "execution_count": null,
   "id": "a924d3fb",
   "metadata": {},
   "outputs": [],
   "source": [
    "spark.stop()"
   ]
  }
 ],
 "metadata": {
  "kernelspec": {
   "display_name": "mlops",
   "language": "python",
   "name": "python3"
  },
  "language_info": {
   "codemirror_mode": {
    "name": "ipython",
    "version": 3
   },
   "file_extension": ".py",
   "mimetype": "text/x-python",
   "name": "python",
   "nbconvert_exporter": "python",
   "pygments_lexer": "ipython3",
   "version": "3.12.2"
  }
 },
 "nbformat": 4,
 "nbformat_minor": 5
}
